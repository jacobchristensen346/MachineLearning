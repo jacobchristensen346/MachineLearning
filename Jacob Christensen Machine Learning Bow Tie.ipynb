{
 "cells": [
  {
   "cell_type": "markdown",
   "id": "e4ef461d",
   "metadata": {},
   "source": [
    "# Logistic Regression Bow Tie"
   ]
  },
  {
   "cell_type": "markdown",
   "id": "29bb1142",
   "metadata": {},
   "source": [
    "- Descriptors asked for:\n",
    "- Day of week\n",
    "- day of month\n",
    "- 'weather' (precipitation seems to have high correlation)\n",
    "- shirt color\n",
    "- phone battery"
   ]
  },
  {
   "cell_type": "code",
   "execution_count": 341,
   "id": "99551064",
   "metadata": {},
   "outputs": [],
   "source": [
    "# read in our bow tie data\n",
    "\n",
    "import numpy as np\n",
    "import pandas as pd\n",
    "import matplotlib.pyplot as plt\n",
    "import math\n",
    "import seaborn as sns\n",
    "from sklearn.model_selection import train_test_split\n",
    "from sklearn.feature_extraction import DictVectorizer\n",
    "\n",
    "df=pd.read_csv('./Bow_Tie_Machine_Learning.csv')"
   ]
  },
  {
   "cell_type": "code",
   "execution_count": 342,
   "id": "99b81484",
   "metadata": {},
   "outputs": [
    {
     "data": {
      "text/html": [
       "<div>\n",
       "<style scoped>\n",
       "    .dataframe tbody tr th:only-of-type {\n",
       "        vertical-align: middle;\n",
       "    }\n",
       "\n",
       "    .dataframe tbody tr th {\n",
       "        vertical-align: top;\n",
       "    }\n",
       "\n",
       "    .dataframe thead th {\n",
       "        text-align: right;\n",
       "    }\n",
       "</style>\n",
       "<table border=\"1\" class=\"dataframe\">\n",
       "  <thead>\n",
       "    <tr style=\"text-align: right;\">\n",
       "      <th></th>\n",
       "      <th>Day_of_Month</th>\n",
       "      <th>Day_of_Week</th>\n",
       "      <th>Phone_Battery</th>\n",
       "      <th>Shirt_Color</th>\n",
       "      <th>Weather_High</th>\n",
       "      <th>Weather_Low</th>\n",
       "      <th>Wind_Speed_(12pm)</th>\n",
       "      <th>Humidity_(12pm)</th>\n",
       "      <th>Dew_Point</th>\n",
       "      <th>Wind_Speed_(1am)</th>\n",
       "      <th>Max_Wind_Speed</th>\n",
       "      <th>Precipitation</th>\n",
       "      <th>Bow_Tie</th>\n",
       "    </tr>\n",
       "  </thead>\n",
       "  <tbody>\n",
       "    <tr>\n",
       "      <th>0</th>\n",
       "      <td>17</td>\n",
       "      <td>Tuesday</td>\n",
       "      <td>65</td>\n",
       "      <td>Blue</td>\n",
       "      <td>46</td>\n",
       "      <td>32</td>\n",
       "      <td>15</td>\n",
       "      <td>79</td>\n",
       "      <td>35.21</td>\n",
       "      <td>13</td>\n",
       "      <td>20</td>\n",
       "      <td>0.17</td>\n",
       "      <td>True</td>\n",
       "    </tr>\n",
       "    <tr>\n",
       "      <th>1</th>\n",
       "      <td>19</td>\n",
       "      <td>Thursday</td>\n",
       "      <td>100</td>\n",
       "      <td>Other</td>\n",
       "      <td>42</td>\n",
       "      <td>29</td>\n",
       "      <td>26</td>\n",
       "      <td>82</td>\n",
       "      <td>36.87</td>\n",
       "      <td>0</td>\n",
       "      <td>30</td>\n",
       "      <td>0.57</td>\n",
       "      <td>True</td>\n",
       "    </tr>\n",
       "    <tr>\n",
       "      <th>2</th>\n",
       "      <td>24</td>\n",
       "      <td>Tuesday</td>\n",
       "      <td>86</td>\n",
       "      <td>Blue</td>\n",
       "      <td>40</td>\n",
       "      <td>32</td>\n",
       "      <td>6</td>\n",
       "      <td>76</td>\n",
       "      <td>30.04</td>\n",
       "      <td>9</td>\n",
       "      <td>9</td>\n",
       "      <td>0.00</td>\n",
       "      <td>True</td>\n",
       "    </tr>\n",
       "    <tr>\n",
       "      <th>3</th>\n",
       "      <td>26</td>\n",
       "      <td>Thursday</td>\n",
       "      <td>87</td>\n",
       "      <td>Grey</td>\n",
       "      <td>25</td>\n",
       "      <td>17</td>\n",
       "      <td>24</td>\n",
       "      <td>84</td>\n",
       "      <td>20.33</td>\n",
       "      <td>17</td>\n",
       "      <td>24</td>\n",
       "      <td>0.20</td>\n",
       "      <td>True</td>\n",
       "    </tr>\n",
       "    <tr>\n",
       "      <th>4</th>\n",
       "      <td>31</td>\n",
       "      <td>Tuesday</td>\n",
       "      <td>43</td>\n",
       "      <td>Grey</td>\n",
       "      <td>21</td>\n",
       "      <td>10</td>\n",
       "      <td>7</td>\n",
       "      <td>45</td>\n",
       "      <td>1.67</td>\n",
       "      <td>14</td>\n",
       "      <td>14</td>\n",
       "      <td>0.00</td>\n",
       "      <td>False</td>\n",
       "    </tr>\n",
       "  </tbody>\n",
       "</table>\n",
       "</div>"
      ],
      "text/plain": [
       "   Day_of_Month Day_of_Week  Phone_Battery Shirt_Color  Weather_High  \\\n",
       "0            17     Tuesday             65        Blue            46   \n",
       "1            19    Thursday            100       Other            42   \n",
       "2            24     Tuesday             86        Blue            40   \n",
       "3            26    Thursday             87        Grey            25   \n",
       "4            31     Tuesday             43        Grey            21   \n",
       "\n",
       "   Weather_Low  Wind_Speed_(12pm)  Humidity_(12pm)  Dew_Point  \\\n",
       "0           32                 15               79      35.21   \n",
       "1           29                 26               82      36.87   \n",
       "2           32                  6               76      30.04   \n",
       "3           17                 24               84      20.33   \n",
       "4           10                  7               45       1.67   \n",
       "\n",
       "   Wind_Speed_(1am)  Max_Wind_Speed  Precipitation  Bow_Tie  \n",
       "0                13              20           0.17     True  \n",
       "1                 0              30           0.57     True  \n",
       "2                 9               9           0.00     True  \n",
       "3                17              24           0.20     True  \n",
       "4                14              14           0.00    False  "
      ]
     },
     "execution_count": 342,
     "metadata": {},
     "output_type": "execute_result"
    }
   ],
   "source": [
    "# delete some data I collected which is not going to be necessary\n",
    "# also fix up names of columns\n",
    "\n",
    "df.columns = df.columns.str.replace(' ', '_')\n",
    "del df['Date']\n",
    "del df['Month']\n",
    "#del df['Day_of_Month']\n",
    "del df['Weather_Current']\n",
    "#df['Bow_Tie'] = df['Bow_Tie'].replace({True: 'yes', False: 'no'})\n",
    "df.head()"
   ]
  },
  {
   "cell_type": "code",
   "execution_count": 343,
   "id": "e458fb19",
   "metadata": {},
   "outputs": [
    {
     "data": {
      "text/html": [
       "<div>\n",
       "<style scoped>\n",
       "    .dataframe tbody tr th:only-of-type {\n",
       "        vertical-align: middle;\n",
       "    }\n",
       "\n",
       "    .dataframe tbody tr th {\n",
       "        vertical-align: top;\n",
       "    }\n",
       "\n",
       "    .dataframe thead th {\n",
       "        text-align: right;\n",
       "    }\n",
       "</style>\n",
       "<table border=\"1\" class=\"dataframe\">\n",
       "  <thead>\n",
       "    <tr style=\"text-align: right;\">\n",
       "      <th></th>\n",
       "      <th>correlation</th>\n",
       "    </tr>\n",
       "  </thead>\n",
       "  <tbody>\n",
       "    <tr>\n",
       "      <th>Phone_Battery</th>\n",
       "      <td>0.211135</td>\n",
       "    </tr>\n",
       "    <tr>\n",
       "      <th>Weather_High</th>\n",
       "      <td>-0.296449</td>\n",
       "    </tr>\n",
       "    <tr>\n",
       "      <th>Weather_Low</th>\n",
       "      <td>-0.134092</td>\n",
       "    </tr>\n",
       "    <tr>\n",
       "      <th>Dew_Point</th>\n",
       "      <td>0.104944</td>\n",
       "    </tr>\n",
       "    <tr>\n",
       "      <th>Max_Wind_Speed</th>\n",
       "      <td>0.170177</td>\n",
       "    </tr>\n",
       "    <tr>\n",
       "      <th>Precipitation</th>\n",
       "      <td>0.521368</td>\n",
       "    </tr>\n",
       "    <tr>\n",
       "      <th>Humidity_(12pm)</th>\n",
       "      <td>0.464759</td>\n",
       "    </tr>\n",
       "    <tr>\n",
       "      <th>Day_of_Month</th>\n",
       "      <td>0.254133</td>\n",
       "    </tr>\n",
       "    <tr>\n",
       "      <th>Wind_Speed_(1am)</th>\n",
       "      <td>0.059134</td>\n",
       "    </tr>\n",
       "    <tr>\n",
       "      <th>Wind_Speed_(12pm)</th>\n",
       "      <td>0.334067</td>\n",
       "    </tr>\n",
       "  </tbody>\n",
       "</table>\n",
       "</div>"
      ],
      "text/plain": [
       "                   correlation\n",
       "Phone_Battery         0.211135\n",
       "Weather_High         -0.296449\n",
       "Weather_Low          -0.134092\n",
       "Dew_Point             0.104944\n",
       "Max_Wind_Speed        0.170177\n",
       "Precipitation         0.521368\n",
       "Humidity_(12pm)       0.464759\n",
       "Day_of_Month          0.254133\n",
       "Wind_Speed_(1am)      0.059134\n",
       "Wind_Speed_(12pm)     0.334067"
      ]
     },
     "execution_count": 343,
     "metadata": {},
     "output_type": "execute_result"
    }
   ],
   "source": [
    "# find the correlation for numerical features\n",
    "\n",
    "numerical = ['Phone_Battery','Weather_High', 'Weather_Low', 'Dew_Point',\n",
    "             'Max_Wind_Speed', 'Precipitation','Humidity_(12pm)','Day_of_Month','Wind_Speed_(1am)','Wind_Speed_(12pm)']\n",
    "df[numerical].corrwith(df.Bow_Tie).to_frame('correlation')"
   ]
  },
  {
   "cell_type": "code",
   "execution_count": 191,
   "id": "20d6f575",
   "metadata": {},
   "outputs": [
    {
     "data": {
      "text/plain": [
       "Day_of_Week    0.086305\n",
       "Shirt_Color    0.001487\n",
       "dtype: float64"
      ]
     },
     "execution_count": 191,
     "metadata": {},
     "output_type": "execute_result"
    }
   ],
   "source": [
    "# find the mutual information for the categorical features\n",
    "\n",
    "categorical = ['Day_of_Week','Shirt_Color']\n",
    "\n",
    "from sklearn.metrics import mutual_info_score\n",
    "# it can be useful to define a function for this\n",
    "def calculate_mi(series):\n",
    "    return mutual_info_score(series, df.Bow_Tie)\n",
    "\n",
    "# we can enact our function on a subset of data with '.apply(calculate_mi)'\n",
    "df_mi = df[categorical].apply(calculate_mi)\n",
    "#df_mi = df_mi.sort_values(ascending=False).to_frame(name='MI')\n",
    "\n",
    "df_mi"
   ]
  },
  {
   "cell_type": "code",
   "execution_count": 192,
   "id": "54ea9327",
   "metadata": {},
   "outputs": [],
   "source": [
    "# now we use the above to choose which features to keep...\n",
    "# looks like wind speed at 1am has very little correlation\n",
    "# dew point does not seem very strong either\n",
    "# surprisingly, shirt color seems to have lower mutual information, at least compared to day of week\n",
    "# also, weather low is basically the weather high data, let's get rid of that\n",
    "# we can probably remove max wind speed, since wind speed at 12pm seems much better\n",
    "\n",
    "del df['Shirt_Color']\n",
    "del df['Wind_Speed_(1am)']\n",
    "del df['Max_Wind_Speed']\n",
    "del df['Dew_Point']\n",
    "del df['Weather_Low']"
   ]
  },
  {
   "cell_type": "code",
   "execution_count": 193,
   "id": "e1bda018",
   "metadata": {},
   "outputs": [],
   "source": [
    "# Since our dataset is pretty short, let's just do a single split in the data\n",
    "# split into training and test datasets\n",
    "df_train, df_test = train_test_split(df, random_state=30,test_size=0.50, shuffle=True)\n",
    "\n",
    "df_train_full = df_train.copy()\n",
    "# we now need to now split df_train_full into separate train and validation\n",
    "#df_train, df_val = train_test_split(df_train_full, random_state=100,test_size=0.25, shuffle=True)\n",
    "#df_val.index\n",
    "\n",
    "# move target values out\n",
    "y_train = df_train.Bow_Tie.values\n",
    "#y_val = df_val.Bow_Tie.values\n",
    "y_test = df_test.Bow_Tie.values\n",
    "\n",
    "y_all = df.Bow_Tie.values\n",
    "\n",
    "del df_train['Bow_Tie']\n",
    "#del df_val['Bow_Tie']\n",
    "del df_test['Bow_Tie']\n",
    "\n",
    "base = ['Day_of_Week', 'Phone_Battery', 'Weather_High', \n",
    "        'Precipitation', 'Humidity_(12pm)','Day_of_Month','Wind_Speed_(12pm)']\n",
    "numerical = ['Phone_Battery','Weather_High', 'Precipitation','Humidity_(12pm)','Day_of_Month','Wind_Speed_(12pm)']\n",
    "categorical = ['Day_of_Week']"
   ]
  },
  {
   "cell_type": "code",
   "execution_count": 194,
   "id": "9260f42b",
   "metadata": {},
   "outputs": [
    {
     "data": {
      "text/plain": [
       "array(['Day_of_Month', 'Day_of_Week=Thursday', 'Day_of_Week=Tuesday',\n",
       "       'Humidity_(12pm)', 'Phone_Battery', 'Precipitation',\n",
       "       'Weather_High', 'Wind_Speed_(12pm)'], dtype=object)"
      ]
     },
     "execution_count": 194,
     "metadata": {},
     "output_type": "execute_result"
    }
   ],
   "source": [
    "# one-hot encode\n",
    "\n",
    "full_dict = df[categorical + numerical].to_dict(orient='records')\n",
    "dv = DictVectorizer(sparse=False)\n",
    "dv.fit(full_dict)\n",
    "X_full = dv.transform(full_dict)\n",
    "\n",
    "feature_names = dv.get_feature_names_out()\n",
    "\n",
    "train_dict = df_train[categorical + numerical].to_dict(orient='records')\n",
    "dv = DictVectorizer(sparse=False)\n",
    "dv.fit(train_dict)\n",
    "X_train = dv.transform(train_dict)\n",
    "\n",
    "test_dict = df_test[categorical + numerical].to_dict(orient='records')\n",
    "dv = DictVectorizer(sparse=False)\n",
    "dv.fit(test_dict)\n",
    "X_test = dv.transform(test_dict)\n",
    "\n",
    "feature_names"
   ]
  },
  {
   "cell_type": "code",
   "execution_count": 195,
   "id": "59801cb6",
   "metadata": {},
   "outputs": [
    {
     "name": "stdout",
     "output_type": "stream",
     "text": [
      "[[ 0.33259916  0.77890486 -0.89856782  0.0157241   0.07066073  0.03816934\n",
      "  -0.28311994  0.18713519]]\n",
      "['Day_of_Month' 'Day_of_Week=Thursday' 'Day_of_Week=Tuesday'\n",
      " 'Humidity_(12pm)' 'Phone_Battery' 'Precipitation' 'Weather_High'\n",
      " 'Wind_Speed_(12pm)']\n"
     ]
    }
   ],
   "source": [
    "# let's start with a logistic regression model to predict bow tie data\n",
    "# train the model on our training dataset\n",
    "from sklearn.linear_model import LogisticRegression\n",
    "\n",
    "model = LogisticRegression(solver='liblinear', random_state=1)\n",
    "model.fit(X_train, y_train)\n",
    "\n",
    "# here are the weights of each feature\n",
    "print(model.coef_)\n",
    "print(feature_names)"
   ]
  },
  {
   "cell_type": "code",
   "execution_count": 196,
   "id": "f54ee53c",
   "metadata": {},
   "outputs": [
    {
     "data": {
      "text/plain": [
       "array([[6.19563380e-01, 3.80436620e-01],\n",
       "       [4.13200055e-01, 5.86799945e-01],\n",
       "       [9.98101150e-01, 1.89885009e-03],\n",
       "       [6.02439024e-02, 9.39756098e-01],\n",
       "       [9.99967272e-01, 3.27278974e-05],\n",
       "       [4.35091935e-01, 5.64908065e-01],\n",
       "       [6.52295912e-01, 3.47704088e-01],\n",
       "       [9.61781837e-01, 3.82181631e-02],\n",
       "       [9.99988293e-01, 1.17068909e-05],\n",
       "       [2.24195784e-04, 9.99775804e-01],\n",
       "       [3.86706786e-04, 9.99613293e-01],\n",
       "       [9.99991876e-01, 8.12370385e-06],\n",
       "       [5.62298178e-01, 4.37701822e-01],\n",
       "       [9.34281167e-03, 9.90657188e-01],\n",
       "       [2.41039425e-04, 9.99758961e-01]])"
      ]
     },
     "execution_count": 196,
     "metadata": {},
     "output_type": "execute_result"
    }
   ],
   "source": [
    "# soft predictions\n",
    "\n",
    "y_pred = model.predict_proba(X_test)[:, 1]\n",
    "model.predict_proba(X_test)"
   ]
  },
  {
   "cell_type": "code",
   "execution_count": 197,
   "id": "99f58ce6",
   "metadata": {},
   "outputs": [
    {
     "name": "stdout",
     "output_type": "stream",
     "text": [
      "accuracy score:  0.6666666666666666\n",
      "auc score:  0.6666666666666667\n"
     ]
    }
   ],
   "source": [
    "# Store the predictions of whether or not we expect bow tie\n",
    "# meaning that the number in y_pred is > 0.5, tending towards 1 rather than 0\n",
    "\n",
    "bow_tie = (y_pred >= 0.5)\n",
    "\n",
    "# and let's see how our accuracy is\n",
    "from sklearn.metrics import accuracy_score\n",
    "# and also the auc\n",
    "from sklearn.metrics import roc_auc_score\n",
    "\n",
    "print('accuracy score: ', accuracy_score(y_test, bow_tie))\n",
    "print('auc score: ', roc_auc_score(y_test, bow_tie))"
   ]
  },
  {
   "cell_type": "markdown",
   "id": "581b2eb8",
   "metadata": {},
   "source": [
    "- Not the best scores ever, the scores seem to vary a lot with the random seed that I use to shuffle\n",
    "- I need to be careful about my test train split since we have so few data points. Sometimes my split (by either size or random seed) causes one of the datasets to not contain one of the categorical outcomes (like all shirt colors)."
   ]
  },
  {
   "cell_type": "markdown",
   "id": "5343cf22",
   "metadata": {},
   "source": [
    "# Forest Bow Tie"
   ]
  },
  {
   "cell_type": "code",
   "execution_count": 198,
   "id": "c8ba0290",
   "metadata": {},
   "outputs": [],
   "source": [
    "from sklearn.ensemble import RandomForestClassifier"
   ]
  },
  {
   "cell_type": "code",
   "execution_count": 199,
   "id": "9f1f3bd2",
   "metadata": {},
   "outputs": [],
   "source": [
    "import numpy as np\n",
    "import pandas as pd\n",
    "import matplotlib.pyplot as plt\n",
    "import math\n",
    "import seaborn as sns\n",
    "from sklearn.model_selection import train_test_split\n",
    "from sklearn.metrics import roc_auc_score\n",
    "\n",
    "df=pd.read_csv('./Bow_Tie_Machine_Learning.csv')\n",
    "\n",
    "df.columns = df.columns.str.replace(' ', '_')\n",
    "del df['Date']\n",
    "del df['Month']\n",
    "del df['Weather_Current']\n",
    "\n",
    "# delete descriptors with low correlation\n",
    "\n",
    "#del df['Shirt_Color']\n",
    "del df['Wind_Speed_(1am)']\n",
    "del df['Max_Wind_Speed']\n",
    "del df['Dew_Point']\n",
    "del df['Weather_Low']\n",
    "\n",
    "# split data using sklearn\n",
    "\n",
    "# now assign the train and test data\n",
    "df_train, df_test = train_test_split(df, random_state=107,test_size=0.30, shuffle=True)\n",
    "\n",
    "# move target values out\n",
    "y_train = df_train.Bow_Tie.values\n",
    "y_test = df_test.Bow_Tie.values\n",
    "\n",
    "del df_train['Bow_Tie']\n",
    "del df_test['Bow_Tie']\n",
    "\n",
    "base = ['Day_of_Week', 'Phone_Battery', 'Shirt_Color', 'Weather_High', 'Weather_Low', \n",
    "       'Dew_Point', 'Precipitation', 'Humidity_(12pm)','Day_of_Month','Wind_Speed_(1am)','Wind_Speed_(12pm)']\n",
    "numerical = ['Phone_Battery','Weather_High', 'Wind_Speed_(12pm)',\n",
    "            'Precipitation','Humidity_(12pm)','Day_of_Month']\n",
    "categorical = ['Day_of_Week','Shirt_Color']\n",
    "\n",
    "# one hot encode\n",
    "\n",
    "train_dict = df_train[categorical + numerical].to_dict(orient='records')\n",
    "dv = DictVectorizer(sparse=False)\n",
    "dv.fit(train_dict)\n",
    "X_train = dv.transform(train_dict)\n",
    "\n",
    "test_dict = df_test[categorical + numerical].to_dict(orient='records')\n",
    "dv = DictVectorizer(sparse=False)\n",
    "dv.fit(test_dict)\n",
    "X_test = dv.transform(test_dict)"
   ]
  },
  {
   "cell_type": "code",
   "execution_count": 200,
   "id": "7c6ce55d",
   "metadata": {},
   "outputs": [
    {
     "name": "stdout",
     "output_type": "stream",
     "text": [
      "{'max_depth': 1, 'min_samples_leaf': 2}\n",
      "0.75\n"
     ]
    }
   ],
   "source": [
    "from sklearn.model_selection import GridSearchCV\n",
    "\n",
    "rf = RandomForestClassifier(n_estimators = 10,random_state=7)\n",
    "\n",
    "parameters = {'max_depth':[1,2,3,4,5,6,7,8,9,10,11,15,20,25,30,40], \n",
    "              'min_samples_leaf':[1,2,3,4,5,6,7,8,9]}\n",
    "\n",
    "rf_classifier = GridSearchCV(rf,parameters,scoring='roc_auc',cv=6)\n",
    "rf_classifier.fit(X_train,y_train)\n",
    "print(rf_classifier.best_params_)\n",
    "print(rf_classifier.best_score_)"
   ]
  },
  {
   "cell_type": "code",
   "execution_count": 201,
   "id": "9c9f7671",
   "metadata": {
    "scrolled": true
   },
   "outputs": [
    {
     "data": {
      "text/plain": [
       "1.0"
      ]
     },
     "execution_count": 201,
     "metadata": {},
     "output_type": "execute_result"
    }
   ],
   "source": [
    "y_pred = rf_classifier.predict_proba(X_test)[:,1]\n",
    "roc_auc_score(y_test,y_pred)"
   ]
  },
  {
   "cell_type": "markdown",
   "id": "a25fc29c",
   "metadata": {},
   "source": [
    "## after trying some different random states, the AUC results seem to rely a lot on how things were shuffled (one random state gave me AUC = 0.4, another gave me AUC = 0.6). The dataset may be a little small for accuracte predictions. In the most recent attempt above, I got an AUC of 1.0 but I am not sure I can trust this. I set the test dataset to be 30 percent of the original dataset, which means it contains only 10 entries. With the random state I chose, it is possible I simply just got lucky with the match."
   ]
  },
  {
   "cell_type": "markdown",
   "id": "03f630fe",
   "metadata": {},
   "source": [
    "## another issue I run into is based on the test train split. if I make the testing dataset too small, then the random shuffle can actually cause the test dataset to not have some of the descriptors in it. This happens if the testing dataset does not have every categorical outcome for the categorical descriptors, so one-hot encoding makes fewer new descriptors based on those outcomes. Another limitation of the small dataset we are working with."
   ]
  },
  {
   "cell_type": "markdown",
   "id": "c8b29479",
   "metadata": {},
   "source": [
    "# NEXT, try SVM, knn, single decision tree"
   ]
  },
  {
   "cell_type": "markdown",
   "id": "ef4a4932",
   "metadata": {},
   "source": [
    "# SVM Bow Tie"
   ]
  },
  {
   "cell_type": "code",
   "execution_count": 202,
   "id": "9e2f729b",
   "metadata": {},
   "outputs": [],
   "source": [
    "# first read in our dataset and one-hot encode it to prepare to building model\n",
    "\n",
    "import numpy as np\n",
    "import pandas as pd\n",
    "import matplotlib.pyplot as plt\n",
    "import math\n",
    "import seaborn as sns\n",
    "from sklearn.model_selection import train_test_split\n",
    "from sklearn.metrics import roc_auc_score\n",
    "\n",
    "df=pd.read_csv('./Bow_Tie_Machine_Learning.csv')\n",
    "\n",
    "df.columns = df.columns.str.replace(' ', '_')\n",
    "del df['Date']\n",
    "del df['Month']\n",
    "del df['Weather_Current']\n",
    "\n",
    "# delete descriptors with low correlation\n",
    "\n",
    "#del df['Shirt_Color']\n",
    "del df['Wind_Speed_(1am)']\n",
    "del df['Max_Wind_Speed']\n",
    "del df['Dew_Point']\n",
    "del df['Weather_Low']\n",
    "\n",
    "# split data using sklearn\n",
    "\n",
    "# now assign the train and test data\n",
    "df_train, df_test = train_test_split(df, random_state=107,test_size=0.50, shuffle=True)\n",
    "\n",
    "# move target values out\n",
    "y_train = df_train.Bow_Tie.values\n",
    "y_test = df_test.Bow_Tie.values\n",
    "\n",
    "del df_train['Bow_Tie']\n",
    "del df_test['Bow_Tie']\n",
    "\n",
    "base = ['Day_of_Week', 'Phone_Battery', 'Shirt_Color', 'Weather_High', 'Weather_Low', \n",
    "       'Dew_Point', 'Precipitation', 'Humidity_(12pm)','Day_of_Month','Wind_Speed_(1am)','Wind_Speed_(12pm)']\n",
    "numerical = ['Phone_Battery','Weather_High', 'Wind_Speed_(12pm)',\n",
    "            'Precipitation','Humidity_(12pm)','Day_of_Month']\n",
    "categorical = ['Day_of_Week','Shirt_Color']\n",
    "\n",
    "# one hot encode\n",
    "\n",
    "train_dict = df_train[categorical + numerical].to_dict(orient='records')\n",
    "dv = DictVectorizer(sparse=False)\n",
    "dv.fit(train_dict)\n",
    "X_train = dv.transform(train_dict)\n",
    "\n",
    "test_dict = df_test[categorical + numerical].to_dict(orient='records')\n",
    "dv = DictVectorizer(sparse=False)\n",
    "dv.fit(test_dict)\n",
    "X_test = dv.transform(test_dict)"
   ]
  },
  {
   "cell_type": "code",
   "execution_count": 203,
   "id": "62edeae2",
   "metadata": {},
   "outputs": [
    {
     "name": "stdout",
     "output_type": "stream",
     "text": [
      "{'degree': 2}\n",
      "0.7\n"
     ]
    }
   ],
   "source": [
    "# and here we go with the svm model\n",
    "# we start with a polynomial kernel\n",
    "# let grid search do our cross validation, find the polynomial degree\n",
    "\n",
    "import numpy as np\n",
    "from sklearn.preprocessing import StandardScaler\n",
    "from sklearn.svm import SVC\n",
    "from sklearn.model_selection import GridSearchCV\n",
    "\n",
    "parameters={'degree':[1,2,3,4,5,6]}\n",
    "clf = SVC(kernel = 'poly', gamma='auto')\n",
    "svm_clf = GridSearchCV(clf,parameters,scoring='roc_auc',cv=5)\n",
    "svm_clf.fit(X_train, y_train)\n",
    "print(svm_clf.best_params_)\n",
    "print(svm_clf.best_score_)"
   ]
  },
  {
   "cell_type": "code",
   "execution_count": 204,
   "id": "c30a3891",
   "metadata": {},
   "outputs": [
    {
     "name": "stdout",
     "output_type": "stream",
     "text": [
      "auc score:  0.7410714285714286\n",
      "accuracy:  0.7333333333333333\n"
     ]
    }
   ],
   "source": [
    "prediction_test = svm_clf.predict(X_test)\n",
    "\n",
    "from sklearn.metrics import roc_auc_score\n",
    "\n",
    "print('auc score: ', roc_auc_score(y_test,prediction_test))\n",
    "print('accuracy: ', accuracy_score(y_test,prediction_test))"
   ]
  },
  {
   "cell_type": "markdown",
   "id": "e968c447",
   "metadata": {},
   "source": [
    "- not too bad of values"
   ]
  },
  {
   "cell_type": "markdown",
   "id": "3cf698f4",
   "metadata": {},
   "source": [
    "# Decision Tree Bow Tie"
   ]
  },
  {
   "cell_type": "code",
   "execution_count": 205,
   "id": "b45c0feb",
   "metadata": {},
   "outputs": [],
   "source": [
    "# first read in our dataset and one-hot encode it to prepare to building model\n",
    "\n",
    "import numpy as np\n",
    "import pandas as pd\n",
    "import matplotlib.pyplot as plt\n",
    "import math\n",
    "import seaborn as sns\n",
    "from sklearn.model_selection import train_test_split\n",
    "from sklearn.metrics import roc_auc_score\n",
    "\n",
    "df=pd.read_csv('./Bow_Tie_Machine_Learning.csv')\n",
    "\n",
    "df.columns = df.columns.str.replace(' ', '_')\n",
    "del df['Date']\n",
    "del df['Month']\n",
    "del df['Weather_Current']\n",
    "\n",
    "# delete descriptors with low correlation\n",
    "\n",
    "#del df['Shirt_Color']\n",
    "del df['Wind_Speed_(1am)']\n",
    "del df['Max_Wind_Speed']\n",
    "del df['Dew_Point']\n",
    "del df['Weather_Low']\n",
    "\n",
    "# split data using sklearn\n",
    "\n",
    "# now assign the train and test data\n",
    "df_train, df_test = train_test_split(df, random_state=60,test_size=0.3, shuffle=True)\n",
    "\n",
    "# move target values out\n",
    "y_train = df_train.Bow_Tie.values\n",
    "y_test = df_test.Bow_Tie.values\n",
    "\n",
    "del df_train['Bow_Tie']\n",
    "del df_test['Bow_Tie']\n",
    "\n",
    "base = ['Day_of_Week', 'Phone_Battery', 'Shirt_Color', 'Weather_High', 'Weather_Low', \n",
    "       'Dew_Point', 'Precipitation', 'Humidity_(12pm)','Day_of_Month','Wind_Speed_(1am)','Wind_Speed_(12pm)']\n",
    "numerical = ['Phone_Battery','Weather_High', 'Wind_Speed_(12pm)',\n",
    "             'Precipitation','Humidity_(12pm)','Day_of_Month']\n",
    "categorical = ['Day_of_Week','Shirt_Color']\n",
    "\n",
    "# one hot encode\n",
    "\n",
    "train_dict = df_train[categorical + numerical].to_dict(orient='records')\n",
    "dv = DictVectorizer(sparse=False)\n",
    "dv.fit(train_dict)\n",
    "X_train = dv.transform(train_dict)\n",
    "\n",
    "test_dict = df_test[categorical + numerical].to_dict(orient='records')\n",
    "dv = DictVectorizer(sparse=False)\n",
    "dv.fit(test_dict)\n",
    "X_test = dv.transform(test_dict)"
   ]
  },
  {
   "cell_type": "code",
   "execution_count": 206,
   "id": "ded91740",
   "metadata": {},
   "outputs": [
    {
     "name": "stdout",
     "output_type": "stream",
     "text": [
      "{'max_depth': 2, 'min_samples_leaf': 5}\n",
      "0.5833333333333334\n"
     ]
    }
   ],
   "source": [
    "# and now here we do our single decision tree, classifier version\n",
    "# find depth and number of leaf, using grid search\n",
    "\n",
    "from sklearn.tree import DecisionTreeClassifier\n",
    "from sklearn.model_selection import GridSearchCV\n",
    "\n",
    "classifier = DecisionTreeClassifier(random_state=0)\n",
    "parameters = {'max_depth':[1,2,3,4,5,6,7,8,9,10,11,15,20], \n",
    "              'min_samples_leaf':[1,2,3,4,5,6,7,8,9,10,12,14,16,20,25]}\n",
    "\n",
    "decision_classifier = GridSearchCV(classifier,parameters,scoring='roc_auc',cv=5)\n",
    "decision_classifier.fit(X_train,y_train)\n",
    "print(decision_classifier.best_params_)\n",
    "print(decision_classifier.best_score_)"
   ]
  },
  {
   "cell_type": "code",
   "execution_count": 207,
   "id": "bcb6e65c",
   "metadata": {},
   "outputs": [
    {
     "name": "stdout",
     "output_type": "stream",
     "text": [
      "test: 0.8\n"
     ]
    }
   ],
   "source": [
    "from sklearn.metrics import roc_auc_score\n",
    "\n",
    "y_pred = decision_classifier.predict_proba(X_test)[:,1]\n",
    "print('test:', roc_auc_score(y_test, y_pred))"
   ]
  },
  {
   "cell_type": "markdown",
   "id": "28c55768",
   "metadata": {},
   "source": [
    "## once again I have trouble getting a consistently high AUC value. Really fluctuates based on test train split and the random state shuffling. In the above I got a relatively low AUC for the trained model, but then when used on the test dataset I get a decent AUC. At least this seems to suggest I am not overfitted, but with a small dataset where random state seems very important, I am not so sure"
   ]
  },
  {
   "cell_type": "markdown",
   "id": "1e6d4ba1",
   "metadata": {},
   "source": [
    "# K Neighbor Classifier for Bow Tie"
   ]
  },
  {
   "cell_type": "code",
   "execution_count": 323,
   "id": "e6701b76",
   "metadata": {},
   "outputs": [
    {
     "name": "stdout",
     "output_type": "stream",
     "text": [
      "['Day_of_Month' 'Day_of_Week=Thursday' 'Day_of_Week=Tuesday'\n",
      " 'Humidity_(12pm)' 'Phone_Battery' 'Precipitation' 'Shirt_Color=Blue'\n",
      " 'Shirt_Color=Grey' 'Shirt_Color=Other' 'Weather_High' 'Wind_Speed_(12pm)']\n",
      "['Day_of_Month' 'Day_of_Week=Thursday' 'Day_of_Week=Tuesday'\n",
      " 'Humidity_(12pm)' 'Phone_Battery' 'Precipitation' 'Shirt_Color=Blue'\n",
      " 'Shirt_Color=Grey' 'Shirt_Color=Other' 'Weather_High' 'Wind_Speed_(12pm)']\n"
     ]
    }
   ],
   "source": [
    "# first read in our dataset and one-hot encode it to prepare to building model\n",
    "\n",
    "import numpy as np\n",
    "import pandas as pd\n",
    "import matplotlib.pyplot as plt\n",
    "import math\n",
    "import seaborn as sns\n",
    "from sklearn.model_selection import train_test_split\n",
    "from sklearn.metrics import roc_auc_score\n",
    "\n",
    "df=pd.read_csv('./Bow_Tie_Machine_Learning.csv')\n",
    "\n",
    "df.columns = df.columns.str.replace(' ', '_')\n",
    "del df['Date']\n",
    "del df['Month']\n",
    "del df['Weather_Current']\n",
    "\n",
    "# delete descriptors with low correlation\n",
    "\n",
    "#del df['Shirt_Color']\n",
    "del df['Wind_Speed_(1am)']\n",
    "del df['Max_Wind_Speed']\n",
    "del df['Dew_Point']\n",
    "del df['Weather_Low']\n",
    "\n",
    "# split data using sklearn\n",
    "\n",
    "# now assign the train and test data\n",
    "df_train, df_test = train_test_split(df, random_state=5,test_size=0.3, shuffle=True)\n",
    "\n",
    "# move target values out\n",
    "y_train = df_train.Bow_Tie.values\n",
    "y_test = df_test.Bow_Tie.values\n",
    "\n",
    "del df_train['Bow_Tie']\n",
    "del df_test['Bow_Tie']\n",
    "\n",
    "base = ['Day_of_Week', 'Phone_Battery', 'Shirt_Color', 'Weather_High', 'Weather_Low', \n",
    "       'Dew_Point', 'Precipitation', 'Humidity_(12pm)','Day_of_Month','Wind_Speed_(1am)','Wind_Speed_(12pm)']\n",
    "numerical = ['Phone_Battery','Weather_High', 'Wind_Speed_(12pm)',\n",
    "             'Precipitation','Humidity_(12pm)','Day_of_Month']\n",
    "categorical = ['Day_of_Week','Shirt_Color']\n",
    "\n",
    "# one hot encode\n",
    "\n",
    "train_dict = df_train[categorical + numerical].to_dict(orient='records')\n",
    "dv = DictVectorizer(sparse=False)\n",
    "dv.fit(train_dict)\n",
    "X_train = dv.transform(train_dict)\n",
    "\n",
    "print(dv.get_feature_names_out())\n",
    "\n",
    "test_dict = df_test[categorical + numerical].to_dict(orient='records')\n",
    "dv = DictVectorizer(sparse=False)\n",
    "dv.fit(test_dict)\n",
    "X_test = dv.transform(test_dict)\n",
    "\n",
    "print(dv.get_feature_names_out())"
   ]
  },
  {
   "cell_type": "code",
   "execution_count": 324,
   "id": "5df4c5db",
   "metadata": {},
   "outputs": [
    {
     "name": "stdout",
     "output_type": "stream",
     "text": [
      "{'n_neighbors': 7}\n",
      "0.9166666666666666\n"
     ]
    }
   ],
   "source": [
    "# here we do our classifier\n",
    "# use gridsearchcv for finding the best number of nearest neighbors, so we also don't overfit\n",
    "\n",
    "from sklearn.neighbors import KNeighborsClassifier\n",
    "from sklearn.model_selection import GridSearchCV\n",
    "knn=KNeighborsClassifier()\n",
    "parameters={'n_neighbors':[1,2,3,4,5,6,7]}\n",
    "knn_classifier=GridSearchCV(knn,parameters,scoring='roc_auc',cv=5)\n",
    "knn_classifier.fit(X_train,y_train)\n",
    "print(knn_classifier.best_params_)\n",
    "print(knn_classifier.best_score_)"
   ]
  },
  {
   "cell_type": "code",
   "execution_count": 325,
   "id": "a833a6fc",
   "metadata": {},
   "outputs": [
    {
     "name": "stdout",
     "output_type": "stream",
     "text": [
      "auc score: 0.8333333333333333\n"
     ]
    }
   ],
   "source": [
    "# let's get our prediction for the test dataset\n",
    "from sklearn.metrics import roc_auc_score\n",
    "\n",
    "prediction_knn = knn_classifier.predict(X_test)\n",
    "print('auc score:', roc_auc_score(y_test, prediction_knn))"
   ]
  },
  {
   "cell_type": "markdown",
   "id": "c13794c6",
   "metadata": {},
   "source": [
    "## Knn seems to have given me decent scores, but they still rely a lot on random state. But they seem maybe consistently higher than the other methods I have tried"
   ]
  },
  {
   "cell_type": "markdown",
   "id": "697c05fd",
   "metadata": {},
   "source": [
    "- let's try changing precipitation to a categorical, either there was some or there is none\n",
    "- This may help with the final prediction which is a percent chance for the day"
   ]
  },
  {
   "cell_type": "code",
   "execution_count": 375,
   "id": "c147babf",
   "metadata": {},
   "outputs": [
    {
     "name": "stdout",
     "output_type": "stream",
     "text": [
      "['Day_of_Month' 'Day_of_Week=Thursday' 'Day_of_Week=Tuesday'\n",
      " 'Humidity_(12pm)' 'Phone_Battery' 'Precipitation=no' 'Precipitation=yes'\n",
      " 'Shirt_Color=Blue' 'Shirt_Color=Grey' 'Shirt_Color=Other' 'Weather_High'\n",
      " 'Wind_Speed_(12pm)']\n",
      "['Day_of_Month' 'Day_of_Week=Thursday' 'Day_of_Week=Tuesday'\n",
      " 'Humidity_(12pm)' 'Phone_Battery' 'Precipitation=no' 'Precipitation=yes'\n",
      " 'Shirt_Color=Blue' 'Shirt_Color=Grey' 'Shirt_Color=Other' 'Weather_High'\n",
      " 'Wind_Speed_(12pm)']\n"
     ]
    }
   ],
   "source": [
    "# first read in our dataset and one-hot encode it to prepare to building model\n",
    "\n",
    "import numpy as np\n",
    "import pandas as pd\n",
    "import matplotlib.pyplot as plt\n",
    "import math\n",
    "import seaborn as sns\n",
    "from sklearn.model_selection import train_test_split\n",
    "from sklearn.metrics import roc_auc_score\n",
    "\n",
    "df=pd.read_csv('./Bow_Tie_Machine_Learning.csv')\n",
    "\n",
    "df.columns = df.columns.str.replace(' ', '_')\n",
    "del df['Date']\n",
    "del df['Month']\n",
    "del df['Weather_Current']\n",
    "\n",
    "# delete descriptors with low correlation\n",
    "\n",
    "#del df['Shirt_Color']\n",
    "del df['Wind_Speed_(1am)']\n",
    "del df['Max_Wind_Speed']\n",
    "del df['Dew_Point']\n",
    "del df['Weather_Low']\n",
    "\n",
    "# now let's change precipitation into a categorical\n",
    "\n",
    "df['Precipitation']=(df.Precipitation>0.0)\n",
    "df['Precipitation'] = df['Precipitation'].replace({True: 'yes', False: 'no'})\n",
    "\n",
    "# split data using sklearn\n",
    "\n",
    "# now assign the train and test data\n",
    "df_train, df_test = train_test_split(df, random_state=5,test_size=0.3, shuffle=True)\n",
    "\n",
    "# move target values out\n",
    "y_train = df_train.Bow_Tie.values\n",
    "y_test = df_test.Bow_Tie.values\n",
    "\n",
    "del df_train['Bow_Tie']\n",
    "del df_test['Bow_Tie']\n",
    "\n",
    "base = ['Day_of_Week', 'Phone_Battery', 'Shirt_Color', 'Weather_High', 'Weather_Low', \n",
    "       'Dew_Point', 'Precipitation', 'Humidity_(12pm)','Day_of_Month','Wind_Speed_(1am)','Wind_Speed_(12pm)']\n",
    "numerical = ['Phone_Battery','Weather_High', 'Wind_Speed_(12pm)',\n",
    "             'Humidity_(12pm)','Day_of_Month']\n",
    "categorical = ['Day_of_Week','Shirt_Color','Precipitation']\n",
    "\n",
    "# one hot encode\n",
    "\n",
    "train_dict = df_train[categorical + numerical].to_dict(orient='records')\n",
    "dv = DictVectorizer(sparse=False)\n",
    "dv.fit(train_dict)\n",
    "X_train = dv.transform(train_dict)\n",
    "\n",
    "print(dv.get_feature_names_out())\n",
    "\n",
    "test_dict = df_test[categorical + numerical].to_dict(orient='records')\n",
    "dv = DictVectorizer(sparse=False)\n",
    "dv.fit(test_dict)\n",
    "X_test = dv.transform(test_dict)\n",
    "\n",
    "print(dv.get_feature_names_out())"
   ]
  },
  {
   "cell_type": "code",
   "execution_count": 376,
   "id": "a62538fc",
   "metadata": {},
   "outputs": [
    {
     "name": "stdout",
     "output_type": "stream",
     "text": [
      "{'n_neighbors': 7}\n",
      "0.9166666666666666\n"
     ]
    }
   ],
   "source": [
    "# here we do our classifier\n",
    "# use gridsearchcv for \n",
    "\n",
    "from sklearn.neighbors import KNeighborsClassifier\n",
    "from sklearn.model_selection import GridSearchCV\n",
    "knn=KNeighborsClassifier()\n",
    "parameters={'n_neighbors':[1,2,3,4,5,6,7]}\n",
    "knn_classifier=GridSearchCV(knn,parameters,scoring='roc_auc',cv=5)\n",
    "knn_classifier.fit(X_train,y_train)\n",
    "print(knn_classifier.best_params_)\n",
    "print(knn_classifier.best_score_)"
   ]
  },
  {
   "cell_type": "code",
   "execution_count": 377,
   "id": "f05b349d",
   "metadata": {},
   "outputs": [
    {
     "name": "stdout",
     "output_type": "stream",
     "text": [
      "auc score: 0.8333333333333333\n"
     ]
    }
   ],
   "source": [
    "# let's get our prediction for the test dataset\n",
    "from sklearn.metrics import roc_auc_score\n",
    "\n",
    "prediction_knn = knn_classifier.predict(X_test)\n",
    "print('auc score:', roc_auc_score(y_test, prediction_knn))"
   ]
  },
  {
   "cell_type": "markdown",
   "id": "e291abc6",
   "metadata": {},
   "source": [
    "# ----------------------------------------------------------------------------"
   ]
  },
  {
   "cell_type": "markdown",
   "id": "93507b88",
   "metadata": {},
   "source": [
    "## So, we now need to choose a model to predict for the final day of class"
   ]
  },
  {
   "cell_type": "markdown",
   "id": "6e9c3aa4",
   "metadata": {},
   "source": [
    "## We are given..."
   ]
  },
  {
   "cell_type": "markdown",
   "id": "7f4c49ea",
   "metadata": {},
   "source": [
    "- Day of Week: Tuesday\n",
    "- Day of Month: 2\n",
    "- Phone Battery: 86 percent\n",
    "- Month: May\n",
    "- Temperature Max: 65\n",
    "- Humidity: 48\n",
    "- Precipitation: 1 percent chance\n",
    "- Wind: 11\n",
    "- Shirt Color: Blue"
   ]
  },
  {
   "cell_type": "markdown",
   "id": "bba0e948",
   "metadata": {},
   "source": [
    "## I will try my Knn model to do the prediction"
   ]
  },
  {
   "cell_type": "code",
   "execution_count": 378,
   "id": "e52215f5",
   "metadata": {},
   "outputs": [
    {
     "name": "stdout",
     "output_type": "stream",
     "text": [
      "['Day_of_Month' 'Day_of_Week=Thursday' 'Day_of_Week=Tuesday'\n",
      " 'Humidity_(12pm)' 'Phone_Battery' 'Precipitation=no' 'Precipitation=yes'\n",
      " 'Shirt_Color=Blue' 'Shirt_Color=Grey' 'Shirt_Color=Other' 'Weather_High'\n",
      " 'Wind_Speed_(12pm)']\n"
     ]
    }
   ],
   "source": [
    "# here are my descriptors and their order...\n",
    "\n",
    "print(dv.get_feature_names_out())"
   ]
  },
  {
   "cell_type": "code",
   "execution_count": 379,
   "id": "fbea1d4f",
   "metadata": {},
   "outputs": [
    {
     "data": {
      "text/plain": [
       "array([[ 2,  0,  1, 48, 86,  1,  0,  1,  0,  0, 65, 11]])"
      ]
     },
     "execution_count": 379,
     "metadata": {},
     "output_type": "execute_result"
    }
   ],
   "source": [
    "prediction_array = (np.array([2, 0, 1, 48, 86, 1, 0, 1, 0, 0, 65, 11])).reshape(1, -1)\n",
    "prediction_array"
   ]
  },
  {
   "cell_type": "code",
   "execution_count": 380,
   "id": "3473a2c4",
   "metadata": {},
   "outputs": [
    {
     "name": "stdout",
     "output_type": "stream",
     "text": [
      "[False]\n"
     ]
    }
   ],
   "source": [
    "print(knn_classifier.predict(prediction_array))"
   ]
  },
  {
   "cell_type": "markdown",
   "id": "86ea29ff",
   "metadata": {},
   "source": [
    "# So my prediction is no bow tie on last day of class"
   ]
  }
 ],
 "metadata": {
  "kernelspec": {
   "display_name": "Python 3 (ipykernel)",
   "language": "python",
   "name": "python3"
  },
  "language_info": {
   "codemirror_mode": {
    "name": "ipython",
    "version": 3
   },
   "file_extension": ".py",
   "mimetype": "text/x-python",
   "name": "python",
   "nbconvert_exporter": "python",
   "pygments_lexer": "ipython3",
   "version": "3.9.12"
  }
 },
 "nbformat": 4,
 "nbformat_minor": 5
}
