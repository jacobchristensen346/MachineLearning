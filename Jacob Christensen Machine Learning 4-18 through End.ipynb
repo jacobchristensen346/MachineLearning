{
 "cells": [
  {
   "cell_type": "markdown",
   "id": "20649c00",
   "metadata": {},
   "source": [
    "# Convolution Neural Networks--Atomagined"
   ]
  },
  {
   "cell_type": "code",
   "execution_count": 1,
   "id": "7157b70c",
   "metadata": {},
   "outputs": [],
   "source": [
    "import tensorflow as tf\n",
    "from tensorflow import keras"
   ]
  },
  {
   "cell_type": "code",
   "execution_count": null,
   "id": "5372eada",
   "metadata": {},
   "outputs": [],
   "source": []
  }
 ],
 "metadata": {
  "kernelspec": {
   "display_name": "Python 3 (ipykernel)",
   "language": "python",
   "name": "python3"
  },
  "language_info": {
   "codemirror_mode": {
    "name": "ipython",
    "version": 3
   },
   "file_extension": ".py",
   "mimetype": "text/x-python",
   "name": "python",
   "nbconvert_exporter": "python",
   "pygments_lexer": "ipython3",
   "version": "3.9.16"
  }
 },
 "nbformat": 4,
 "nbformat_minor": 5
}
